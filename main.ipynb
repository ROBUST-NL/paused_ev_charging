{
 "cells": [
  {
   "cell_type": "code",
   "execution_count": 1,
   "metadata": {},
   "outputs": [
    {
     "name": "stderr",
     "output_type": "stream",
     "text": [
      "/var/folders/pl/37_5x2px1bg1mbl59d5nw8sc0000gn/T/ipykernel_37629/3503905611.py:2: DeprecationWarning: \n",
      "Pyarrow will become a required dependency of pandas in the next major release of pandas (pandas 3.0),\n",
      "(to allow more performant data types, such as the Arrow string type, and better interoperability with other libraries)\n",
      "but was not found to be installed on your system.\n",
      "If this would cause problems for you,\n",
      "please provide us feedback at https://github.com/pandas-dev/pandas/issues/54466\n",
      "        \n",
      "  import pandas as pd\n"
     ]
    }
   ],
   "source": [
    "import matplotlib.pyplot as plt\n",
    "import pandas as pd\n",
    "import matplotlib.ticker as mtick\n",
    "from matplotlib.lines import Line2D\n",
    "import seaborn as sns\n",
    "import itertools\n",
    "import datetime as dt\n",
    "import tqdm.notebook as tq\n",
    "from helper_functions.ev_transcation_generator import generate_dummy_transactions\n",
    "source_data_fig2 = ''\n",
    "source_data_fig4 = ''\n",
    "source_data_fig5 = ''\n",
    "source_data_fig6 = ''"
   ]
  },
  {
   "cell_type": "markdown",
   "metadata": {},
   "source": [
    "# Figure -2"
   ]
  },
  {
   "cell_type": "markdown",
   "metadata": {},
   "source": [
    "This is figure 1 of paper\n"
   ]
  },
  {
   "cell_type": "code",
   "execution_count": null,
   "metadata": {},
   "outputs": [],
   "source": [
    "results=pd.read_excel(source_data_fig2,sheet_name='Figure 2',index_col=0)\n",
    "\n",
    "fig=plt.figure(figsize=(5,2.5),dpi=500)\n",
    "fmt = '%.0f%%' \n",
    "ax1=plt.subplot(111)\n",
    "font='DejaVu Sans'\n",
    "xpos=[1,4+1,7+1.9,10+1.6,13+2.4,16+2.1]\n",
    "plt.bar(xpos,results['Value']*100,color='#3c5488',width=2,zorder=5)\n",
    "xticklist=['Fluctuating\\ncharging',\n",
    "           'Intermittent\\ncharging',\n",
    "           '',\n",
    "           '',\n",
    "           '',\n",
    "           '']\n",
    "plt.xticks(ticks=xpos,labels=xticklist,fontsize=8.2)\n",
    "plt.ylim(0,100)\n",
    "plt.grid(axis='y',color='lightgrey',linestyle='--',zorder=0)\n",
    "ax1.yaxis.set_major_formatter(mtick.FormatStrFormatter(fmt))\n",
    "ax1.tick_params(width=0.001)\n",
    "plt.ylabel('Success rate of charging tests',font=font,fontsize=8.5)\n",
    "plt.yticks(font=font,fontsize=8.5)\n",
    "plt.text(8.9,-5.5,'20 min',fontsize=7.2,font=font,va='center',ha='center')\n",
    "plt.text(11.6,-5.5,'6 hour',fontsize=7.2,font=font,va='center',ha='center')\n",
    "plt.text(15.4,-5.5,'20 min',fontsize=7.2,font=font,va='center',ha='center')\n",
    "plt.text(18.1,-5.5,'6 hour',fontsize=7.2,font=font,va='center',ha='center')\n",
    "plt.text(10.25,-13.2,'Delayed charging',fontsize=8.2,font=font,va='center',ha='center')\n",
    "plt.text(16.75,-13.2,'Paused charging',fontsize=8.2,font=font,va='center',ha='center')\n"
   ]
  },
  {
   "cell_type": "markdown",
   "metadata": {},
   "source": [
    "# Figure 4"
   ]
  },
  {
   "cell_type": "code",
   "execution_count": null,
   "metadata": {},
   "outputs": [],
   "source": [
    "resultdf=pd.read_excel(source_data_fig4,sheet_name='Figure 4',index_col=0)\n",
    "resultdf['cost reduction paused charging']=(resultdf['Costs - paused charging (euro/kWh)']/resultdf['Costs - uncontrolled charging']-1)\n",
    "resultdf['cost reduction no paused charging']=(resultdf['Costs - no paused charging (euro/kWh)']/resultdf['Costs - uncontrolled charging']-1)\n",
    "\n",
    "\n",
    "fig=plt.figure(figsize=(8.3,4.8),dpi=500)\n",
    "barwidth=0.18\n",
    "plt.subplots_adjust(wspace=0.13, hspace=0.2)\n",
    "\n",
    "ax1=plt.subplot(2,1,1)\n",
    "ax1.spines['top'].set_visible(False)\n",
    "ax1.spines['right'].set_visible(False)\n",
    "ticks_nochargingpause=[x for x in range(1,14)]\n",
    "ticks_chargingpause=[x+barwidth for x in range(1,14)]\n",
    "ticks_uncontrolled=[x-barwidth for x in range(1,14)]\n",
    "plt.bar(ticks_uncontrolled,resultdf['Costs - uncontrolled charging'][:13],width=barwidth,color='#3c5488',zorder=100)\n",
    "plt.bar(ticks_nochargingpause,resultdf['Costs - no paused charging (euro/kWh)'][:13],width=barwidth,color='#F28522',zorder=100)\n",
    "plt.bar(ticks_chargingpause,resultdf['Costs - paused charging (euro/kWh)'][:13],width=barwidth,color='#00a087',zorder=100)\n",
    "plt.xticks(ticks=ticks_nochargingpause,labels=resultdf.index[:13])\n",
    "plt.xlim(0.4,13.5)\n",
    "plt.ylim(0,0.32)\n",
    "plt.ylabel('Charging costs [€/kWh]')\n",
    "plt.grid(axis='y',color='lightgrey',linestyle='--',zorder=-1000)\n",
    "\n",
    "for j,country in enumerate(resultdf.index[:13]):\n",
    "    plt.arrow(ticks_uncontrolled[j]-0.135,resultdf.loc[country,'Costs - uncontrolled charging']-0.0015,0,-(resultdf.loc[country,'Costs - uncontrolled charging']-resultdf.loc[country,'Costs - no paused charging (euro/kWh)'])+0.005,\n",
    "              head_width=0.07,head_length=0.005,length_includes_head=True,overhang=0.8,color='#505050',zorder=100)\n",
    "    plt.text(ticks_uncontrolled[j]-0.255,(resultdf.loc[country,'Costs - no paused charging (euro/kWh)'])+0.002,'–'+str(-int(round(resultdf.loc[country,'cost reduction no paused charging']*100,0)))+'%',fontsize=6.3,rotation=90,va='bottom',ha='center',color='#505050',zorder=100)   \n",
    "\n",
    "    plt.arrow(ticks_nochargingpause[j]+0.135,resultdf.loc[country,'Costs - uncontrolled charging']-0.0015,0,-(resultdf.loc[country,'Costs - uncontrolled charging']-resultdf.loc[country,'Costs - paused charging (euro/kWh)'])+0.005,\n",
    "              head_width=0.07,head_length=0.005,length_includes_head=True,overhang=0.8,color='#505050',zorder=100)\n",
    "    if country in ['ES','CH']:\n",
    "        plt.text(ticks_nochargingpause[j]+0.275,(resultdf.loc[country,'Costs - paused charging (euro/kWh)'])+0.002,'–'+str(-int(round(resultdf.loc[country,'cost reduction paused charging']*100,0)))+'%',fontsize=6.3,rotation=90,va='bottom',ha='center',color='#505050',zorder=100)   \n",
    "    else:\n",
    "        plt.text(ticks_nochargingpause[j]+0.275,(resultdf.loc[country,'Costs - paused charging (euro/kWh)']+resultdf.loc[country,'Costs - uncontrolled charging'])/2,'–'+str(-int(round(resultdf.loc[country,'cost reduction paused charging']*100,0)))+'%',fontsize=6.3,rotation=90,va='center',ha='center',color='#505050',zorder=100)   \n",
    "\n",
    "ax1=plt.subplot(2,1,2)\n",
    "ax1.spines['top'].set_visible(False)\n",
    "ax1.spines['right'].set_visible(False)\n",
    "plt.grid(axis='y',color='lightgrey',linestyle='--',zorder=-1000)\n",
    "plt.bar(ticks_uncontrolled,resultdf['Costs - uncontrolled charging'][13:],width=barwidth,color='#3c5488',label='Uncontrolled charging',zorder=100)\n",
    "plt.bar(ticks_nochargingpause,resultdf['Costs - no paused charging (euro/kWh)'][13:],width=barwidth,color='#F28522',label='Cost optimization\\nwithout charging pauses',zorder=100)\n",
    "plt.bar(ticks_chargingpause,resultdf['Costs - paused charging (euro/kWh)'][13:],width=barwidth,color='#00a087',label='Cost optimization\\nwith charging pauses',zorder=100)\n",
    "plt.xticks(ticks=ticks_nochargingpause,labels=resultdf.index[13:])\n",
    "plt.xlim(0.4,13.5)\n",
    "plt.ylim(0,0.32)\n",
    "plt.ylabel('Charging costs [€/kWh]')\n",
    "for j,country in enumerate(resultdf.index[13:]):\n",
    "    plt.arrow(ticks_uncontrolled[j]-0.135,resultdf.loc[country,'Costs - uncontrolled charging']-0.0015,0,-(resultdf.loc[country,'Costs - uncontrolled charging']-resultdf.loc[country,'Costs - no paused charging (euro/kWh)'])+0.005,\n",
    "              head_width=0.07,head_length=0.005,length_includes_head=True,overhang=0.8,color='#505050',zorder=100)\n",
    "    plt.text(ticks_uncontrolled[j]-0.255,(resultdf.loc[country,'Costs - no paused charging (euro/kWh)'])+0.002,'–'+str(-int(round(resultdf.loc[country,'cost reduction no paused charging']*100,0)))+'%',fontsize=6.3,rotation=90,va='bottom',ha='center',color='#505050',zorder=100)   \n",
    "\n",
    "    plt.arrow(ticks_nochargingpause[j]+0.135,resultdf.loc[country,'Costs - uncontrolled charging']-0.0015,0,-(resultdf.loc[country,'Costs - uncontrolled charging']-resultdf.loc[country,'Costs - paused charging (euro/kWh)'])+0.005,\n",
    "              head_width=0.07,head_length=0.005,length_includes_head=True,overhang=0.8,color='#505050',zorder=100)\n",
    "    if country in ['NO','PT','SE','IT','PL']:\n",
    "        plt.text(ticks_nochargingpause[j]+0.275,(resultdf.loc[country,'Costs - paused charging (euro/kWh)'])+0.002,'–'+str(-int(round(resultdf.loc[country,'cost reduction paused charging']*100,0)))+'%',fontsize=6.3,rotation=90,va='bottom',ha='center',color='#505050',zorder=100)   \n",
    "    else:\n",
    "        plt.text(ticks_nochargingpause[j]+0.275,(resultdf.loc[country,'Costs - paused charging (euro/kWh)']+resultdf.loc[country,'Costs - uncontrolled charging'])/2,'–'+str(-int(round(resultdf.loc[country,'cost reduction paused charging']*100,0)))+'%',fontsize=6.3,rotation=90,va='center',ha='center',color='#505050',zorder=100)   \n",
    "plt.legend(loc=(0,-0.45),ncol=3,frameon=False)    "
   ]
  },
  {
   "cell_type": "markdown",
   "metadata": {},
   "source": [
    "# Figure 5"
   ]
  },
  {
   "cell_type": "code",
   "execution_count": null,
   "metadata": {},
   "outputs": [],
   "source": [
    "resultdf=pd.read_excel(source_data_fig5,sheet_name='Figure 5',index_col=0)\n",
    "\n",
    "\n",
    "def flip(items, ncol):\n",
    "    return itertools.chain(*[items[i::ncol] for i in range(ncol)])\n",
    "\n",
    "labellist=['Uncontrolled charging','Peak load minimization\\nwithout charging pauses','Peak load minimization\\nwith charging pauses']\n",
    "colorlist=['#3c5488','#F28522','#00a087']\n",
    "\n",
    "fig=plt.figure(figsize=(6,3.2),dpi=500)\n",
    "ax1=plt.subplot(111)\n",
    "plt.plot([-100,300],[400,400],color='darkred',linestyle='--',label='Transformer capacity')\n",
    "for j,col in enumerate(['Uncontrolled charging','No paused charging','Paused charging']):\n",
    "    ax1.stackplot(resultdf.index, resultdf[col+' - lower bound 95% quantile'], resultdf[col+' - upper bound 95% quantile']-resultdf[col+' - lower bound 95% quantile'], colors=[\"#ffffff00\",colorlist[j]],alpha=0.2,zorder=1000)\n",
    "    plt.plot(resultdf.index,resultdf[col+' - average value'],label=labellist[j],color=colorlist[j],zorder=1000)\n",
    "plt.xlabel('Number of charging stations')\n",
    "plt.ylabel('Transformer peak load [kW]')\n",
    "plt.ylim(0,598)\n",
    "plt.xlim(0,130)\n",
    "plt.grid(axis='both',color='lightgrey',linestyle='--',zorder=-1000)\n",
    "handles, labels = ax1.get_legend_handles_labels()\n",
    "plt.legend(flip(handles,2),flip(labels,2),bbox_to_anchor=(0.46, -0.32),loc='center',ncol=2,fontsize=9.5,frameon=False)"
   ]
  },
  {
   "cell_type": "markdown",
   "metadata": {},
   "source": [
    "# Figure 6"
   ]
  },
  {
   "cell_type": "code",
   "execution_count": null,
   "metadata": {},
   "outputs": [],
   "source": [
    "\n",
    "resultdf=pd.read_excel(source_data_fig6,sheet_name='Figure 6')\n",
    "\n",
    "xlabellist=[]\n",
    "for hour in range(0,24):\n",
    "    if hour<9:\n",
    "        time='0'+str(hour)+':00-'+'0'+str(hour+1)+':00'\n",
    "    elif hour==9:\n",
    "        time='0'+str(hour)+':00-'+str(hour+1)+':00'\n",
    "    elif hour==23:\n",
    "        time=str(hour)+':00-00:00'\n",
    "    else:\n",
    "        time=str(hour)+':00-'+str(hour+1)+':00'\n",
    "    xlabellist+=[time]\n",
    "\n",
    "\n",
    "fig=plt.figure(figsize=(13,5.5*13/15),dpi=600)\n",
    "ax1=plt.subplot(111)\n",
    "plt.subplots_adjust(wspace=0.13, hspace=0.4)\n",
    "for i in range(1,5):\n",
    "    plt.plot([-100,100],[i,i],color='lightgrey',linestyle='--',zorder=-100000)\n",
    "sns.violinplot(data=resultdf, x=\"timeframe\", y=\"re-dispatchvalue\", hue=\"Type of smart charging\",saturation=1,hue_order=['Smart charging without charging pauses','Smart charging with charging pauses'], split=True,bw=0.18,scale='width',palette={\"Smart charging without charging pauses\": \"#F28522\",\"Smart charging with charging pauses\": \"#00a087\"},inner=\"quart\", linewidth=1,zorder=50000)\n",
    "plt.xticks(rotation=90,fontsize=11.5)\n",
    "plt.yticks(fontsize=11.5)\n",
    "plt.ylim(0,4.8)\n",
    "plt.ylabel('Hourly downward flexibility\\n[kW/charging station]',font='DejaVu Sans',fontsize=13)\n",
    "plt.xlim(-0.8,23.8)\n",
    "plt.legend(bbox_to_anchor=(0.02,0.997),fontsize=12,loc=2,frameon=False)\n",
    "plt.xlabel('Flexibility request window',font='DejaVu Sans',fontsize=13)\n",
    "ax1.set_xticklabels(xlabellist,rotation = 50,ha='right')\n"
   ]
  },
  {
   "cell_type": "markdown",
   "metadata": {},
   "source": [
    "# Dummy transaction\n"
   ]
  },
  {
   "cell_type": "markdown",
   "metadata": {},
   "source": []
  },
  {
   "cell_type": "code",
   "execution_count": 2,
   "metadata": {},
   "outputs": [
    {
     "data": {
      "application/vnd.jupyter.widget-view+json": {
       "model_id": "8d7c52db69ea46c69709bf4e7d7ba4ad",
       "version_major": 2,
       "version_minor": 0
      },
      "text/plain": [
       "Generating transactions:   0%|          | 0/100 [00:00<?, ?it/s]"
      ]
     },
     "metadata": {},
     "output_type": "display_data"
    }
   ],
   "source": [
    "sample_data = generate_dummy_transactions(number_of_days = 100, start_date = dt.datetime(year=2022, month=1, day=1))\n"
   ]
  },
  {
   "cell_type": "code",
   "execution_count": 5,
   "metadata": {},
   "outputs": [
    {
     "data": {
      "text/html": [
       "<div>\n",
       "<style scoped>\n",
       "    .dataframe tbody tr th:only-of-type {\n",
       "        vertical-align: middle;\n",
       "    }\n",
       "\n",
       "    .dataframe tbody tr th {\n",
       "        vertical-align: top;\n",
       "    }\n",
       "\n",
       "    .dataframe thead th {\n",
       "        text-align: right;\n",
       "    }\n",
       "</style>\n",
       "<table border=\"1\" class=\"dataframe\">\n",
       "  <thead>\n",
       "    <tr style=\"text-align: right;\">\n",
       "      <th></th>\n",
       "      <th>START</th>\n",
       "      <th>STOP</th>\n",
       "      <th>P_MAX</th>\n",
       "      <th>VOL</th>\n",
       "    </tr>\n",
       "  </thead>\n",
       "  <tbody>\n",
       "    <tr>\n",
       "      <th>0</th>\n",
       "      <td>2022-01-01 14:09:47+00:00</td>\n",
       "      <td>2022-01-01 16:09:47+00:00</td>\n",
       "      <td>17.020781</td>\n",
       "      <td>-204.249373</td>\n",
       "    </tr>\n",
       "    <tr>\n",
       "      <th>1</th>\n",
       "      <td>2022-01-01 13:24:21+00:00</td>\n",
       "      <td>2022-01-02 03:24:21+00:00</td>\n",
       "      <td>9.928748</td>\n",
       "      <td>17.451202</td>\n",
       "    </tr>\n",
       "    <tr>\n",
       "      <th>2</th>\n",
       "      <td>2022-01-01 16:40:36+00:00</td>\n",
       "      <td>2022-01-02 09:40:36+00:00</td>\n",
       "      <td>9.017172</td>\n",
       "      <td>58.421665</td>\n",
       "    </tr>\n",
       "    <tr>\n",
       "      <th>3</th>\n",
       "      <td>2022-01-01 13:34:18+00:00</td>\n",
       "      <td>2022-01-02 11:34:18+00:00</td>\n",
       "      <td>4.148291</td>\n",
       "      <td>5.829551</td>\n",
       "    </tr>\n",
       "    <tr>\n",
       "      <th>4</th>\n",
       "      <td>2022-01-01 17:34:33+00:00</td>\n",
       "      <td>2022-01-02 01:34:33+00:00</td>\n",
       "      <td>21.276284</td>\n",
       "      <td>2.609004</td>\n",
       "    </tr>\n",
       "    <tr>\n",
       "      <th>...</th>\n",
       "      <td>...</td>\n",
       "      <td>...</td>\n",
       "      <td>...</td>\n",
       "      <td>...</td>\n",
       "    </tr>\n",
       "    <tr>\n",
       "      <th>48146</th>\n",
       "      <td>2022-04-10 21:47:39+00:00</td>\n",
       "      <td>2022-04-10 23:47:39+00:00</td>\n",
       "      <td>15.587854</td>\n",
       "      <td>-202.642108</td>\n",
       "    </tr>\n",
       "    <tr>\n",
       "      <th>48147</th>\n",
       "      <td>2022-04-10 18:45:25+00:00</td>\n",
       "      <td>2022-04-11 07:45:25+00:00</td>\n",
       "      <td>18.615251</td>\n",
       "      <td>49.340216</td>\n",
       "    </tr>\n",
       "    <tr>\n",
       "      <th>48148</th>\n",
       "      <td>2022-04-10 11:48:24+00:00</td>\n",
       "      <td>2022-04-10 21:48:24+00:00</td>\n",
       "      <td>20.328170</td>\n",
       "      <td>1.524599</td>\n",
       "    </tr>\n",
       "    <tr>\n",
       "      <th>48149</th>\n",
       "      <td>2022-04-10 16:38:11+00:00</td>\n",
       "      <td>2022-04-12 01:38:11+00:00</td>\n",
       "      <td>20.612808</td>\n",
       "      <td>50.717306</td>\n",
       "    </tr>\n",
       "    <tr>\n",
       "      <th>48150</th>\n",
       "      <td>2022-04-10 17:01:38+00:00</td>\n",
       "      <td>2022-04-11 16:01:38+00:00</td>\n",
       "      <td>6.903381</td>\n",
       "      <td>3.218266</td>\n",
       "    </tr>\n",
       "  </tbody>\n",
       "</table>\n",
       "<p>48151 rows × 4 columns</p>\n",
       "</div>"
      ],
      "text/plain": [
       "                          START                      STOP      P_MAX  \\\n",
       "0     2022-01-01 14:09:47+00:00 2022-01-01 16:09:47+00:00  17.020781   \n",
       "1     2022-01-01 13:24:21+00:00 2022-01-02 03:24:21+00:00   9.928748   \n",
       "2     2022-01-01 16:40:36+00:00 2022-01-02 09:40:36+00:00   9.017172   \n",
       "3     2022-01-01 13:34:18+00:00 2022-01-02 11:34:18+00:00   4.148291   \n",
       "4     2022-01-01 17:34:33+00:00 2022-01-02 01:34:33+00:00  21.276284   \n",
       "...                         ...                       ...        ...   \n",
       "48146 2022-04-10 21:47:39+00:00 2022-04-10 23:47:39+00:00  15.587854   \n",
       "48147 2022-04-10 18:45:25+00:00 2022-04-11 07:45:25+00:00  18.615251   \n",
       "48148 2022-04-10 11:48:24+00:00 2022-04-10 21:48:24+00:00  20.328170   \n",
       "48149 2022-04-10 16:38:11+00:00 2022-04-12 01:38:11+00:00  20.612808   \n",
       "48150 2022-04-10 17:01:38+00:00 2022-04-11 16:01:38+00:00   6.903381   \n",
       "\n",
       "              VOL  \n",
       "0     -204.249373  \n",
       "1       17.451202  \n",
       "2       58.421665  \n",
       "3        5.829551  \n",
       "4        2.609004  \n",
       "...           ...  \n",
       "48146 -202.642108  \n",
       "48147   49.340216  \n",
       "48148    1.524599  \n",
       "48149   50.717306  \n",
       "48150    3.218266  \n",
       "\n",
       "[48151 rows x 4 columns]"
      ]
     },
     "execution_count": 5,
     "metadata": {},
     "output_type": "execute_result"
    }
   ],
   "source": [
    "pd.DataFrame(sample_data)"
   ]
  },
  {
   "cell_type": "code",
   "execution_count": null,
   "metadata": {},
   "outputs": [],
   "source": []
  }
 ],
 "metadata": {
  "kernelspec": {
   "display_name": "flex_bandwidth",
   "language": "python",
   "name": "python3"
  },
  "language_info": {
   "codemirror_mode": {
    "name": "ipython",
    "version": 3
   },
   "file_extension": ".py",
   "mimetype": "text/x-python",
   "name": "python",
   "nbconvert_exporter": "python",
   "pygments_lexer": "ipython3",
   "version": "3.10.13"
  }
 },
 "nbformat": 4,
 "nbformat_minor": 2
}
